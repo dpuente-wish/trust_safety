{
 "cells": [
  {
   "cell_type": "code",
   "execution_count": 13,
   "id": "european-footage",
   "metadata": {},
   "outputs": [
    {
     "name": "stdout",
     "output_type": "stream",
     "text": [
      "['/home/stao', '/opt/conda/lib/python37.zip', '/opt/conda/lib/python3.7', '/opt/conda/lib/python3.7/lib-dynload', '', '/home/stao/.local/lib/python3.7/site-packages', '/opt/conda/lib/python3.7/site-packages', '/opt/conda/lib/python3.7/site-packages/IPython/extensions', '/home/stao/.ipython']\n"
     ]
    }
   ],
   "source": [
    "import ipywidgets as widgets\n",
    "from ipywidgets import interact, interact_manual\n",
    "from IPython.display import display\n",
    "import sys\n",
    "import numpy as np\n",
    "import pandas as pd\n",
    "import base64\n",
    "import io\n",
    "import boto3\n",
    "import os\n",
    "pd.set_option('display.max_rows', 1000) "
   ]
  },
  {
   "cell_type": "code",
   "execution_count": 2,
   "id": "related-trash",
   "metadata": {},
   "outputs": [],
   "source": [
    "client = boto3.client('s3')"
   ]
  },
  {
   "cell_type": "code",
   "execution_count": 3,
   "id": "straight-protest",
   "metadata": {},
   "outputs": [],
   "source": [
    "obj = client.get_object(Bucket= 'wish-jupyter-us-west-2', Key= 'jupyter/stao/filtered_tbl_columns.csv') \n",
    "# get object and file (key) from bucket\n",
    "df = pd.read_csv(obj['Body']) # 'Body' is a key word"
   ]
  },
  {
   "cell_type": "code",
   "execution_count": 4,
   "id": "congressional-fifth",
   "metadata": {},
   "outputs": [
    {
     "data": {
      "text/plain": [
       "(395988, 5)"
      ]
     },
     "execution_count": 4,
     "metadata": {},
     "output_type": "execute_result"
    }
   ],
   "source": [
    "df.shape"
   ]
  },
  {
   "cell_type": "code",
   "execution_count": 10,
   "id": "piano-theology",
   "metadata": {},
   "outputs": [
    {
     "name": "stdout",
     "output_type": "stream",
     "text": [
      "# of unique databases:  78\n",
      "# of unique tables:  15921\n",
      "# of unique columns:  16984\n"
     ]
    }
   ],
   "source": [
    "print('# of unique databases: ', df.db.nunique());\n",
    "print('# of unique tables: ', df.tbl.nunique());\n",
    "print('# of unique columns: ', df.col_name.nunique())"
   ]
  },
  {
   "cell_type": "code",
   "execution_count": 7,
   "id": "southwest-outside",
   "metadata": {},
   "outputs": [
    {
     "data": {
      "application/vnd.jupyter.widget-view+json": {
       "model_id": "dc2f43e8b04f48f1a193a31c725f623c",
       "version_major": 2,
       "version_minor": 0
      },
      "text/plain": [
       "interactive(children=(Text(value='', description='db'), Text(value='', description='tbl'), Text(value='', desc…"
      ]
     },
     "metadata": {},
     "output_type": "display_data"
    },
    {
     "name": "stdout",
     "output_type": "stream",
     "text": [
      "<function show_rows_with_string at 0xffff7dbd25f0>\n"
     ]
    }
   ],
   "source": [
    "@interact\n",
    "def show_rows_with_string( db='', tbl='', col='',dtype=''):#list(df_filtered.db.unique())):\n",
    "    database = df[(df.db.str.contains(db,na=False))]\n",
    "    return database[database['col_name'].str.contains(col,na=False)&database['tbl'].str.contains(tbl,na=False)&database['data_type'].str.contains(dtype)]\n",
    "print(show_rows_with_string)"
   ]
  }
 ],
 "metadata": {
  "kernelspec": {
   "display_name": "Python 3",
   "language": "python",
   "name": "python3"
  },
  "language_info": {
   "codemirror_mode": {
    "name": "ipython",
    "version": 3
   },
   "file_extension": ".py",
   "mimetype": "text/x-python",
   "name": "python",
   "nbconvert_exporter": "python",
   "pygments_lexer": "ipython3",
   "version": "3.7.10"
  }
 },
 "nbformat": 4,
 "nbformat_minor": 5
}
